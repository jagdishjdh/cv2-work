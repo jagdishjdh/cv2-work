{
 "cells": [
  {
   "cell_type": "code",
   "execution_count": 1,
   "metadata": {},
   "outputs": [],
   "source": [
    "import cv2\n",
    "import numpy as np"
   ]
  },
  {
   "cell_type": "code",
   "execution_count": 2,
   "metadata": {},
   "outputs": [],
   "source": [
    "# h_min s_min v_min   h_max s_max v_max\n",
    "myColors = [[72,22,0, 109,255,175]] # green\n",
    "            # [103,102,0, 145,255,255]]  # blue\n",
    "myColorVals = [[0,255,0]]\n",
    "                # [255,0,0]]"
   ]
  },
  {
   "cell_type": "code",
   "execution_count": 3,
   "metadata": {},
   "outputs": [],
   "source": [
    "def findColor(img, myColors):\n",
    "    imgHSV = cv2.cvtColor(img, cv2.COLOR_BGR2HSV)\n",
    "    newPoints = []\n",
    "    for i,color in enumerate(myColors):\n",
    "        lower = np.array(color[:3])\n",
    "        upper = np.array(color[3:])\n",
    "        mask = cv2.inRange(imgHSV, lower, upper)\n",
    "        x,y = getContours(mask)\n",
    "        if x!=0 and y!=0:\n",
    "            newPoints.append([x,y,i])\n",
    "    return newPoints"
   ]
  },
  {
   "cell_type": "code",
   "execution_count": 4,
   "metadata": {},
   "outputs": [],
   "source": [
    "def getContours(img):\n",
    "    contours, hierarchy = cv2.findContours(img, cv2.RETR_EXTERNAL, cv2.CHAIN_APPROX_NONE)\n",
    "    x,y,w,h=0,0,0,0\n",
    "    for cnt in contours:\n",
    "        area = cv2.contourArea(cnt)\n",
    "        if area > 100:\n",
    "            # cv2.drawContours(imgContour, cnt, -1, (255,0,0), 3)\n",
    "            peri = cv2.arcLength(cnt, True)\n",
    "            approx = cv2.approxPolyDP(cnt, 0.02*peri, True) #corner points\n",
    "            x,y,w,h = cv2.boundingRect(approx)\n",
    "    return x+w//2, y  # returning tip of bounding box"
   ]
  },
  {
   "cell_type": "code",
   "execution_count": 5,
   "metadata": {},
   "outputs": [],
   "source": [
    "def drawPrevious(points, myColorVals):\n",
    "    for (x,y,cid) in points:\n",
    "        cv2.circle(imgContour, (x,y), 10, myColorVals[cid],cv2.FILLED)"
   ]
  },
  {
   "cell_type": "code",
   "execution_count": 13,
   "metadata": {},
   "outputs": [],
   "source": [
    "cap = cv2.VideoCapture(0)\n",
    "cap.set(3,640)      # width\n",
    "cap.set(4,480)      # height\n",
    "cap.set(10, 150)    # brightness\n",
    "\n",
    "allPoints = []  # (x, y, colorID)\n",
    "\n",
    "while True:\n",
    "    success, img = cap.read()\n",
    "    img = img[:,::-1,:]         # flipping horizontaly\n",
    "    imgContour = img.copy()\n",
    "    if not success or (cv2.waitKey(1) & 0xFF == ord('q')):\n",
    "        if len(allPoints) > 0:\n",
    "            allPoints = []\n",
    "        else:\n",
    "            break\n",
    "    else:\n",
    "        newPts = findColor(img, myColors)\n",
    "        if len(newPts) !=0 :\n",
    "            for pt in newPts:\n",
    "                allPoints.append(pt)\n",
    "        drawPrevious(allPoints, myColorVals)\n",
    "        cv2.imshow(\"video\", imgContour)\n",
    "        # cv2.waitKey(10)\n",
    "    \n",
    "cap.release()\n",
    "cv2.destroyAllWindows()"
   ]
  },
  {
   "cell_type": "code",
   "execution_count": 7,
   "metadata": {},
   "outputs": [],
   "source": [
    "## color detection =======================================\n",
    "\n",
    "def empty(p):\n",
    "    pass\n",
    "\n",
    "cap = cv2.VideoCapture(0)\n",
    "cap.set(3,300)      # width\n",
    "cap.set(4,300)      # height\n",
    "\n",
    "cv2.namedWindow(\"TrackBars\")\n",
    "cv2.resizeWindow(\"TrackBars\", 640, 480)\n",
    "cv2.createTrackbar(\"hue min\", \"TrackBars\", 0, 179, empty)\n",
    "cv2.createTrackbar(\"hue max\", \"TrackBars\", 179, 179, empty)\n",
    "cv2.createTrackbar(\"sat min\", \"TrackBars\", 0, 255, empty)\n",
    "cv2.createTrackbar(\"sat max\", \"TrackBars\", 255, 255, empty)\n",
    "cv2.createTrackbar(\"val min\", \"TrackBars\", 0, 255, empty)\n",
    "cv2.createTrackbar(\"val max\", \"TrackBars\", 255, 255, empty)\n",
    "\n",
    "while True:\n",
    "    success, img = cap.read()\n",
    "\n",
    "    imgHSV = cv2.cvtColor(img, cv2.COLOR_BGR2HSV)\n",
    "    h_min = cv2.getTrackbarPos(\"hue min\", \"TrackBars\")\n",
    "    h_max = cv2.getTrackbarPos(\"hue max\", \"TrackBars\")\n",
    "    s_min = cv2.getTrackbarPos(\"sat min\", \"TrackBars\")\n",
    "    s_max = cv2.getTrackbarPos(\"sat max\", \"TrackBars\")\n",
    "    v_min = cv2.getTrackbarPos(\"val min\", \"TrackBars\")\n",
    "    v_max = cv2.getTrackbarPos(\"val max\", \"TrackBars\")\n",
    "\n",
    "    lower = np.array([h_min, s_min, v_min])\n",
    "    upper = np.array([h_max, s_max, v_max])\n",
    "    mask = cv2.inRange(imgHSV, lower, upper)\n",
    "\n",
    "    # imgResult = cv2.bitwise_and(img, img, mask=mask)\n",
    "\n",
    "    cv2.imshow(\"image\", img)\n",
    "    cv2.imshow(\"mask\", mask)\n",
    "    # cv2.imshow(\"result\", imgResult)\n",
    "    if (cv2.waitKey(200) & 0xFF == ord('q')):\n",
    "        break    \n",
    "\n",
    "cap.release()\n",
    "cv2.destroyAllWindows()\n"
   ]
  },
  {
   "cell_type": "code",
   "execution_count": null,
   "metadata": {},
   "outputs": [],
   "source": []
  }
 ],
 "metadata": {
  "language_info": {
   "codemirror_mode": {
    "name": "ipython",
    "version": 3
   },
   "file_extension": ".py",
   "mimetype": "text/x-python",
   "name": "python",
   "nbconvert_exporter": "python",
   "pygments_lexer": "ipython3",
   "version": "3.7.6-final"
  },
  "orig_nbformat": 2,
  "kernelspec": {
   "name": "python3",
   "display_name": "Python 3"
  }
 },
 "nbformat": 4,
 "nbformat_minor": 2
}