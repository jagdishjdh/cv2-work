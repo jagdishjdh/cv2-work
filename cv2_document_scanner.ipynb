{
 "cells": [
  {
   "cell_type": "code",
   "execution_count": 1,
   "metadata": {},
   "outputs": [],
   "source": [
    "import cv2\n",
    "import numpy as np"
   ]
  },
  {
   "cell_type": "code",
   "execution_count": 2,
   "metadata": {},
   "outputs": [],
   "source": [
    "def stackImages(scale,imgArray):\n",
    "    rows = len(imgArray)\n",
    "    cols = len(imgArray[0])\n",
    "    rowsAvailable = isinstance(imgArray[0], list)\n",
    "    width = imgArray[0][0].shape[1]\n",
    "    height = imgArray[0][0].shape[0]\n",
    "    if rowsAvailable:\n",
    "        for x in range ( 0, rows):\n",
    "            for y in range(0, cols):\n",
    "                if imgArray[x][y].shape[:2] == imgArray[0][0].shape [:2]:\n",
    "                    imgArray[x][y] = cv2.resize(imgArray[x][y], (0, 0), None, scale, scale)\n",
    "                else:\n",
    "                    imgArray[x][y] = cv2.resize(imgArray[x][y], (imgArray[0][0].shape[1], imgArray[0][0].shape[0]), None, scale, scale)\n",
    "                if len(imgArray[x][y].shape) == 2: imgArray[x][y]= cv2.cvtColor( imgArray[x][y], cv2.COLOR_GRAY2BGR)\n",
    "        imageBlank = np.zeros((height, width, 3), np.uint8)\n",
    "        hor = [imageBlank]*rows\n",
    "        hor_con = [imageBlank]*rows\n",
    "        for x in range(0, rows):\n",
    "            hor[x] = np.hstack(imgArray[x])\n",
    "        ver = np.vstack(hor)\n",
    "    else:\n",
    "        for x in range(0, rows):\n",
    "            if imgArray[x].shape[:2] == imgArray[0].shape[:2]:\n",
    "                imgArray[x] = cv2.resize(imgArray[x], (0, 0), None, scale, scale)\n",
    "            else:\n",
    "                imgArray[x] = cv2.resize(imgArray[x], (imgArray[0].shape[1], imgArray[0].shape[0]), None,scale, scale)\n",
    "            if len(imgArray[x].shape) == 2: imgArray[x] = cv2.cvtColor(imgArray[x], cv2.COLOR_GRAY2BGR)\n",
    "        hor= np.hstack(imgArray)\n",
    "        ver = hor\n",
    "    return ver"
   ]
  },
  {
   "cell_type": "code",
   "execution_count": 3,
   "metadata": {},
   "outputs": [],
   "source": [
    "def preProcessing(img):\n",
    "    imgGray = cv2.cvtColor(img, cv2.COLOR_BGR2GRAY)\n",
    "    imgBlur = cv2.GaussianBlur(imgGray, (5,5), 1)\n",
    "    imgCanny = cv2.Canny(imgBlur, 200, 200)\n",
    "    kernel = np.ones([5,5])\n",
    "    imgDil = cv2.dilate(imgCanny, kernel, iterations=2)\n",
    "    imgErod = cv2.erode(imgDil, kernel, iterations=1)\n",
    "    return imgErod"
   ]
  },
  {
   "cell_type": "code",
   "execution_count": 4,
   "metadata": {},
   "outputs": [],
   "source": [
    "def getContours(img):\n",
    "    contours, hierarchy = cv2.findContours(img, cv2.RETR_EXTERNAL, cv2.CHAIN_APPROX_NONE)\n",
    "    maxArea = 0\n",
    "    biggest = np.array([])\n",
    "    for cnt in contours:\n",
    "        area = cv2.contourArea(cnt)\n",
    "        if area > 5000:\n",
    "            cv2.drawContours(imgContour, cnt, -1, (255,0,0), 3)\n",
    "            peri = cv2.arcLength(cnt, True)\n",
    "            approx = cv2.approxPolyDP(cnt, 0.02*peri, True) #corner points\n",
    "            if area > maxArea and len(approx)==4:\n",
    "                biggest = approx\n",
    "                maxArea = area\n",
    "    # x,y,w,h = cv2.boundingRect(approx)\n",
    "    # cv2.rectangle(imgContour,(x,y),(x+w,y+h),(0,0,255),2)\n",
    "    cv2.drawContours(imgContour, biggest, -1, (255,0,0), 30)\n",
    "    return biggest"
   ]
  },
  {
   "cell_type": "code",
   "execution_count": 5,
   "metadata": {},
   "outputs": [],
   "source": [
    "def getWarp(img, biggest):\n",
    "    pt1 = np.float32(biggest)\n",
    "    pt2 = np.float32([[0,0],[width,0],[0,height],[width,height]])\n",
    "    matrix = cv2.getPerspectiveTransform(pt1, pt2)\n",
    "    img_out = cv2.warpPerspective(img, matrix, (width,height))\n",
    "    return img_out"
   ]
  },
  {
   "cell_type": "code",
   "execution_count": 6,
   "metadata": {},
   "outputs": [],
   "source": [
    "def reorder(pts):\n",
    "    pts = pts.reshape((4,2))\n",
    "    newPts = np.zeros((4,1,2), dtype=np.int32)\n",
    "    \n",
    "    add = pts.sum(axis=1)\n",
    "    newPts[0] = pts[np.argmin(add)]\n",
    "    newPts[3] = pts[np.argmax(add)]\n",
    "\n",
    "    diff = np.diff(pts, axis=1)\n",
    "    newPts[1] = pts[np.argmin(diff)]\n",
    "    newPts[2] = pts[np.argmax(diff)]\n",
    "    return newPts"
   ]
  },
  {
   "cell_type": "code",
   "execution_count": 9,
   "metadata": {},
   "outputs": [],
   "source": [
    "width, height = 640, 480\n",
    "\n",
    "cap = cv2.VideoCapture(2) # 0 for webcam ,,, 2 for android_cam\n",
    "cap.set(3, width)      # width\n",
    "cap.set(4, height)      # height\n",
    "cap.set(10, 150)    # brightness\n",
    "\n",
    "while True:\n",
    "    success, img = cap.read()\n",
    "    if not success or (cv2.waitKey(1) & 0xFF == ord('q')):\n",
    "        break\n",
    "    else:\n",
    "        imgContour = img.copy()\n",
    "        imgThres = preProcessing(img)\n",
    "        biggest = getContours(imgThres)\n",
    "        \n",
    "        if biggest.size != 0:\n",
    "            imgWarpd = getWarp(img, reorder(biggest))\n",
    "            imgArray = ([imgContour, imgWarpd])\n",
    "        else:\n",
    "            imgArray = ([imgContour, img])\n",
    "\n",
    "        imgStacked = stackImages(1, imgArray)\n",
    "        cv2.imshow(\"boundry\", imgStacked)\n",
    "        # cv2.imshow(\"video\", img)\n",
    "        # cv2.waitKey(10)\n",
    "    \n",
    "cap.release()\n",
    "cv2.destroyAllWindows()"
   ]
  },
  {
   "cell_type": "code",
   "execution_count": null,
   "metadata": {},
   "outputs": [],
   "source": []
  }
 ],
 "metadata": {
  "language_info": {
   "codemirror_mode": {
    "name": "ipython",
    "version": 3
   },
   "file_extension": ".py",
   "mimetype": "text/x-python",
   "name": "python",
   "nbconvert_exporter": "python",
   "pygments_lexer": "ipython3",
   "version": "3.7.6-final"
  },
  "orig_nbformat": 2,
  "kernelspec": {
   "name": "python3",
   "display_name": "Python 3"
  }
 },
 "nbformat": 4,
 "nbformat_minor": 2
}